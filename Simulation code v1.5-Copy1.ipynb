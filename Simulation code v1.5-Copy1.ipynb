{
 "cells": [
  {
   "cell_type": "code",
   "execution_count": 1,
   "metadata": {},
   "outputs": [
    {
     "name": "stderr",
     "output_type": "stream",
     "text": [
      "In /anaconda3/lib/python3.7/site-packages/matplotlib/mpl-data/stylelib/_classic_test.mplstyle: \n",
      "The text.latex.unicode rcparam was deprecated in Matplotlib 3.0 and will be removed in 3.2.\n",
      "In /anaconda3/lib/python3.7/site-packages/matplotlib/mpl-data/stylelib/_classic_test.mplstyle: \n",
      "The savefig.frameon rcparam was deprecated in Matplotlib 3.1 and will be removed in 3.3.\n",
      "In /anaconda3/lib/python3.7/site-packages/matplotlib/mpl-data/stylelib/_classic_test.mplstyle: \n",
      "The pgf.debug rcparam was deprecated in Matplotlib 3.0 and will be removed in 3.2.\n",
      "In /anaconda3/lib/python3.7/site-packages/matplotlib/mpl-data/stylelib/_classic_test.mplstyle: \n",
      "The verbose.level rcparam was deprecated in Matplotlib 3.1 and will be removed in 3.3.\n",
      "In /anaconda3/lib/python3.7/site-packages/matplotlib/mpl-data/stylelib/_classic_test.mplstyle: \n",
      "The verbose.fileo rcparam was deprecated in Matplotlib 3.1 and will be removed in 3.3.\n"
     ]
    }
   ],
   "source": [
    "import pandas as pd\n",
    "import numpy as np\n",
    "from sklearn.linear_model import Ridge\n",
    "import matplotlib.pyplot as plt"
   ]
  },
  {
   "cell_type": "code",
   "execution_count": 5,
   "metadata": {},
   "outputs": [],
   "source": [
    "N = 1000   # number of stocks\n",
    "p = 300    # number of factors\n",
    "T = 1200    # number of time periods\n",
    "\n",
    "idiovol_sigma = np.sqrt(0.3*0.3/12)\n",
    "e_mu = np.sqrt(0.2*0.2/12)\n",
    "e_sigma = e_mu\n",
    "mu = 0.1/12/e_mu\n",
    "sigma_beta = 1\n",
    "a = 1.5\n",
    "b = 1.5\n",
    "w0 = np.zeros(N) # for now\n",
    "returns = []\n",
    "\n",
    "# values_new = []\n",
    "gamma = 1\n",
    "c = 1\n",
    "values_new = []\n",
    "\n",
    "\n",
    "for s in range(1): # can change the simulation number\n",
    "    t = np.random.normal(e_mu,e_sigma,N) # generate the eij for each factor\n",
    "    betas = np.zeros((N,p)) # the decaying path of each factor beta\n",
    "    betas[:,0] = t\n",
    "    mus = np.zeros((N,p))\n",
    "    mus[:,0] = mu\n",
    "    for j in range(1,p):\n",
    "        betas[:,j-1] = t*j**(-a)\n",
    "        mus[:,j-1] = mu*j**(-b)\n",
    "    alpha = (betas * mus).sum(axis = 1) # the factor risk premia\n",
    "    beta_hat_stocks = [] # to store the betas for each stock after their ridge regression\n",
    "    alpha_hat_stocks = [] # to store the alphas for each stock after their ridge regression\n",
    "    sigma_ridge = []\n",
    "    returns = []\n",
    "#     lambdas = []\n",
    "    for stock in range(N):\n",
    "        f = np.random.multivariate_normal(np.zeros(p), np.identity(p), T) # for each stock generate the factor matrix\n",
    "        epsilon = np.random.normal(0,idiovol_sigma,T) #generate the residuals\n",
    "        r = alpha[stock] + np.array(betas[stock]).T @ f.T + epsilon # calculate the return series for each stock\n",
    "        returns.append(r)\n",
    "        lamb = idiovol_sigma**2 * (p+1)/((alpha[stock]**2 + sum(betas[stock]**2))*T)\n",
    "#         lambdas.append(lamb)\n",
    "        ridge = Ridge(alpha = lamb,fit_intercept = True)\n",
    "        ridge.fit(f, r)\n",
    "        beta_hat_stocks.append(ridge.coef_)\n",
    "        alpha_hat_stocks.append(ridge.intercept_)\n",
    "        sigma_ridge.append(np.var(r - ridge.intercept_ - ridge.coef_ @ f.T))\n",
    "    \n",
    "    sigma_hat = np.array(beta_hat_stocks) @ np.array(beta_hat_stocks).T + sigma_ridge @ np.identity(N)\n",
    "    weights = np.linalg.inv(gamma * sigma_hat + c * np.identity(N)) @ (alpha_hat_stocks + c * w0)\n",
    "    sigma_true = betas @ betas.T + np.identity(N)*idiovol_sigma**2 \n",
    "    value = weights.T @ alpha - 0.5*gamma*weights.T @ sigma_true @ weights - 0.5*c*np.sqrt(sum((weights - w0)**2))\n",
    "    values_new.append(value)\n",
    "\n",
    " "
   ]
  },
  {
   "cell_type": "code",
   "execution_count": 6,
   "metadata": {},
   "outputs": [
    {
     "data": {
      "text/plain": [
       "Text(0.5, 0, 'Simulated alpha')"
      ]
     },
     "execution_count": 6,
     "metadata": {},
     "output_type": "execute_result"
    },
    {
     "data": {
      "image/png": "[encoded data removed]",
      "text/plain": [
       "<Figure size 432x288 with 1 Axes>"
      ]
     },
     "metadata": {
      "needs_background": "light"
     },
     "output_type": "display_data"
    }
   ],
   "source": [
    "# idiovol_sigma**2 *(p+1)/((alpha[-10]**2 + sum(betas[-10]**2))*T)\n",
    "\n",
    "plt.scatter(y = alpha, x = np.mean(returns,axis = 1))\n",
    "plt.ylabel('True alpha')\n",
    "plt.xlabel('Simulated alpha')"
   ]
  },
  {
   "cell_type": "code",
   "execution_count": 7,
   "metadata": {},
   "outputs": [
    {
     "data": {
      "text/plain": [
       "Text(0.5, 0, 'Simulated volatility')"
      ]
     },
     "execution_count": 7,
     "metadata": {},
     "output_type": "execute_result"
    },
    {
     "data": {
      "image/png": "[encoded data removed]",
      "text/plain": [
       "<Figure size 432x288 with 1 Axes>"
      ]
     },
     "metadata": {
      "needs_background": "light"
     },
     "output_type": "display_data"
    }
   ],
   "source": [
    "plt.scatter(y = np.sqrt(np.diagonal(sigma_true)), x = np.std(returns, axis = 1))\n",
    "plt.ylabel('True volatility')\n",
    "plt.xlabel('Simulated volatility')"
   ]
  },
  {
   "cell_type": "code",
   "execution_count": 62,
   "metadata": {},
   "outputs": [
    {
     "data": {
      "text/plain": [
       "-0.30665513587848386"
      ]
     },
     "execution_count": 62,
     "metadata": {},
     "output_type": "execute_result"
    }
   ],
   "source": [
    "value"
   ]
  },
  {
   "cell_type": "code",
   "execution_count": 41,
   "metadata": {},
   "outputs": [],
   "source": [
    "# # np.array(betas[0]) @ np.array(betas[0])\n",
    "# big = np.argmax(lambdas)\n",
    "# idiovol_sigma**2 * (p+1)/(T*(sum(betas[big]**2) + alpha[big]**2))\n",
    "# # es = np.random.normal(0,idiovol_sigma, 300)\n",
    "# # min(es[es > 0])\n",
    "# np.random.normal(0,idiovol_sigma, 1)"
   ]
  },
  {
   "cell_type": "code",
   "execution_count": 58,
   "metadata": {},
   "outputs": [
    {
     "data": {
      "text/plain": [
       "2.3732074134483163"
      ]
     },
     "execution_count": 58,
     "metadata": {},
     "output_type": "execute_result"
    }
   ],
   "source": [
    "sum(weights)"
   ]
  },
  {
   "cell_type": "code",
   "execution_count": null,
   "metadata": {},
   "outputs": [],
   "source": []
  }
 ],
 "metadata": {
  "kernelspec": {
   "display_name": "Python 3",
   "language": "python",
   "name": "python3"
  },
  "language_info": {
   "codemirror_mode": {
    "name": "ipython",
    "version": 3
   },
   "file_extension": ".py",
   "mimetype": "text/x-python",
   "name": "python",
   "nbconvert_exporter": "python",
   "pygments_lexer": "ipython3",
   "version": "3.7.9"
  }
 },
 "nbformat": 4,
 "nbformat_minor": 4
}
