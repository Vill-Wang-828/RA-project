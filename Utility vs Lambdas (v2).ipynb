{
 "cells": [
  {
   "cell_type": "code",
   "execution_count": 20,
   "metadata": {},
   "outputs": [],
   "source": [
    "import pandas as pd\n",
    "import numpy as np\n",
    "from sklearn.linear_model import Ridge\n",
    "import matplotlib.pyplot as plt\n",
    "import seaborn as sns\n",
    "sns.set()"
   ]
  },
  {
   "cell_type": "code",
   "execution_count": 3,
   "metadata": {},
   "outputs": [],
   "source": [
    "N = 1000\n",
    "p = 300\n",
    "T = 120\n",
    "idiovol_sigma = np.sqrt(0.3*0.3/12)\n",
    "e_mu = np.sqrt(0.2*0.2/12)\n",
    "e_sigma = e_mu\n",
    "mu = 0.1/12/e_mu\n",
    "a = 1.5\n",
    "b = 1.5\n",
    "w0 = np.zeros(N) # for now\n",
    "returns = []\n",
    "\n",
    "# values_new = []\n",
    "\n",
    "values_new = []\n",
    "\n",
    "# X\n",
    "factors = []\n",
    "# y\n",
    "y = []\n",
    "\n",
    "# Save different samples through different simulations\n",
    "\n",
    "\n",
    "for s in range(100): # can change the simulation number\n",
    "    beta = np.zeros((N,p)) \n",
    "    beta[:,0] = e_mu\n",
    "    mus = np.zeros((N,p))\n",
    "    mus[:,0] = mu\n",
    "    returns = []\n",
    "    fs = []\n",
    "    for j in range(1,p):\n",
    "        beta[:,j-1] = e_mu*j**(-a)  # draw an N*p matrix of beta\n",
    "        mus[:,j-1] = mu*j**(-b)  # draw an N*p matrix of mus\n",
    "    alpha = (beta * mus).sum(axis = 1) # get the factor risk premia\n",
    "#     beta_hat_stocks = [] # to store the betas for each stock after their ridge regression\n",
    "#     alpha_hat_stocks = [] # to store the alphas for each stock after their ridge regression\n",
    "#     sigma_ridge = []\n",
    "    for stock in range(N):\n",
    "        f = np.random.multivariate_normal(np.zeros(p), np.identity(p), T) # for each stock generate the factor matrix\n",
    "        epsilon = np.random.normal(0,idiovol_sigma,T) #generate the residuals\n",
    "        r = alpha[stock] + np.array(beta[stock]).T @ f.T + epsilon # calculate the return series for each stock\n",
    "        returns.append(r.T)\n",
    "        fs.append(f)\n",
    "        \n",
    "    y.append(returns) \n",
    "    factors.append(fs)\n",
    " "
   ]
  },
  {
   "cell_type": "code",
   "execution_count": 30,
   "metadata": {},
   "outputs": [
    {
     "data": {
      "text/plain": [
       "(120,)"
      ]
     },
     "execution_count": 30,
     "metadata": {},
     "output_type": "execute_result"
    }
   ],
   "source": [
    "np.shape(y[0][0]) # the first simulation for stock 1\n"
   ]
  },
  {
   "cell_type": "code",
   "execution_count": 31,
   "metadata": {},
   "outputs": [
    {
     "data": {
      "text/plain": [
       "(120, 300)"
      ]
     },
     "execution_count": 31,
     "metadata": {},
     "output_type": "execute_result"
    }
   ],
   "source": [
    "np.shape(factors[1][2]) # every simulation has 500 T*p matrices; this is the factor matrix for stock 3 on simulation 2\n"
   ]
  },
  {
   "cell_type": "code",
   "execution_count": 6,
   "metadata": {},
   "outputs": [],
   "source": [
    "gamma = 1\n",
    "c = 1"
   ]
  },
  {
   "cell_type": "code",
   "execution_count": 26,
   "metadata": {},
   "outputs": [],
   "source": [
    "# test different utility vs different lambdas\n",
    "lambdas = np.geomspace(1,500,20)\n",
    "# utility = np.zeros((len(lambdas),100)) # 100 = simulation times\n",
    "# beta_ridge = []\n",
    "# alpha_ridge = []\n",
    "\n",
    "utility_avg = []\n",
    "for l in lambdas:\n",
    "    value_l = []\n",
    "    for s in range(np.shape(y)[0]):\n",
    "        beta_hat_stocks = []\n",
    "        alpha_hat_stocks = []\n",
    "        sigma_ridge = []\n",
    "        for stock in range(N):\n",
    "            ridge = Ridge(alpha = l, fit_intercept=True)\n",
    "            ridge.fit(factors[s][stock], y[s][stock])\n",
    "            beta_hat_stocks.append(ridge.coef_)\n",
    "            alpha_hat_stocks.append(ridge.intercept_)\n",
    "            sigma_ridge.append(np.var(r - ridge.intercept_ - ridge.coef_ @ f.T))\n",
    "        sigma_hat = np.array(beta_hat_stocks) @ np.array(beta_hat_stocks).T + sigma_ridge @ np.identity(N)\n",
    "        weights = np.linalg.inv(gamma * sigma_hat + c * np.identity(N)) @ (alpha_hat_stocks + c * w0)\n",
    "        sigma_true = beta @ beta.T + np.identity(N)*idiovol_sigma**2 \n",
    "        value = weights.T @ alpha - 0.5*gamma*weights.T @ sigma_true @ weights - 0.5*c*np.sqrt(sum((weights - w0)**2))\n",
    "        value_l.append(value)\n",
    "    utility_avg.append(np.mean(value_l))"
   ]
  },
  {
   "cell_type": "code",
   "execution_count": 28,
   "metadata": {},
   "outputs": [
    {
     "data": {
      "text/plain": [
       "Text(0.5, 0, 'Lambdas')"
      ]
     },
     "execution_count": 28,
     "metadata": {},
     "output_type": "execute_result"
    },
    {
     "data": {
      "image/png": "[encoded data removed]",
      "text/plain": [
       "<Figure size 432x288 with 1 Axes>"
      ]
     },
     "metadata": {},
     "output_type": "display_data"
    }
   ],
   "source": [
    "plt.scatter(y = utility_avg, x = lambdas)\n",
    "plt.ylabel('Utility')\n",
    "plt.xlabel('Lambdas')"
   ]
  },
  {
   "cell_type": "code",
   "execution_count": null,
   "metadata": {},
   "outputs": [],
   "source": []
  }
 ],
 "metadata": {
  "kernelspec": {
   "display_name": "Python 3",
   "language": "python",
   "name": "python3"
  },
  "language_info": {
   "codemirror_mode": {
    "name": "ipython",
    "version": 3
   },
   "file_extension": ".py",
   "mimetype": "text/x-python",
   "name": "python",
   "nbconvert_exporter": "python",
   "pygments_lexer": "ipython3",
   "version": "3.7.4"
  }
 },
 "nbformat": 4,
 "nbformat_minor": 2
}
