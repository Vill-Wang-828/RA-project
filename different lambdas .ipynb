{
 "cells": [
  {
   "cell_type": "code",
   "execution_count": 1,
   "metadata": {},
   "outputs": [],
   "source": [
    "import pandas as pd\n",
    "import numpy as np\n",
    "from sklearn.linear_model import Ridge\n",
    "import matplotlib.pyplot as plt\n",
    "import seaborn as sns\n",
    "sns.set()"
   ]
  },
  {
   "cell_type": "code",
   "execution_count": 133,
   "metadata": {},
   "outputs": [],
   "source": [
    "N = 1000\n",
    "p = 300\n",
    "T = 120\n",
    "idiovol_sigma = np.sqrt(0.3*0.3/12)\n",
    "e_mu = np.sqrt(0.2*0.2/12)\n",
    "e_sigma = e_mu\n",
    "mu = 0.1/12/e_mu\n",
    "w0 = np.zeros(N) # for now\n",
    "returns = []\n",
    "\n",
    "gamma = 1\n",
    "c = 1\n",
    "a = 1.5\n",
    "b = 1.5\n",
    "# values_new = []\n",
    "\n",
    "values_new = []\n",
    "\n",
    "# X\n",
    "factors = []\n",
    "# y\n",
    "y = []\n",
    "\n",
    "lambdas = np.geomspace(1,1500,30)\n",
    "utility_avg = []\n",
    "\n",
    "# Save different samples through different simulations\n",
    "\n",
    "\n",
    "for s in range(100): # can change the simulation number\n",
    "    beta = np.zeros((N,p)) \n",
    "    beta[:,0] = e_mu\n",
    "    mus = np.zeros((N,p))\n",
    "    mus[:,0] = mu\n",
    "    returns = []\n",
    "    fs = []\n",
    "    for j in range(1,p):\n",
    "        beta[:,j-1] = e_mu*j**(-a)  # draw an N*p matrix of beta\n",
    "        mus[:,j-1] = mu*j**(-b)  # draw an N*p matrix of mus\n",
    "        alpha = (beta * mus).sum(axis = 1) # get the factor risk premia\n",
    "        #     beta_hat_stocks = [] # to store the betas for each stock after their ridge regression\n",
    "        #     alpha_hat_stocks = [] # to store the alphas for each stock after their ridge regression\n",
    "        #     sigma_ridge = []\n",
    "    for stock in range(N):\n",
    "        f = np.random.multivariate_normal(np.zeros(p), np.identity(p), T) # for each stock generate the factor matrix\n",
    "        epsilon = np.random.normal(0,idiovol_sigma,T) #generate the residuals\n",
    "        r = alpha[stock] + np.array(beta[stock]).T @ f.T + epsilon # calculate the return series for each stock\n",
    "        returns.append(r.T)\n",
    "        fs.append(f)\n",
    "\n",
    "    y.append(returns) \n",
    "    factors.append(fs)\n",
    "            "
   ]
  },
  {
   "cell_type": "code",
   "execution_count": 3,
   "metadata": {},
   "outputs": [],
   "source": [
    "lambdas = np.geomspace(1,1500,30)\n",
    "\n",
    "\n",
    "utility_avg = []\n",
    "\n",
    "for l in lambdas:\n",
    "    value_l = []\n",
    "    for s in range(np.shape(y)[0]):\n",
    "        beta_hat_stocks = []\n",
    "        alpha_hat_stocks = []\n",
    "        sigma_ridge = []\n",
    "        for stock in range(N):\n",
    "        #             ridge_betas = ridge_closed(factors[s][stock], y[s][stock], l)[0]\n",
    "        #             ridge_intercept = ridge_closed(factors[s][stock], y[s][stock], l)[1]\n",
    "            ridge = Ridge(alpha = l, fit_intercept = True).fit(factors[s][stock], y[s][stock])\n",
    "\n",
    "            beta_hat_stocks.append(ridge.coef_)\n",
    "            alpha_hat_stocks.append(ridge.intercept_)\n",
    "            sigma_ridge.append(np.var(y[s][stock] - ridge.intercept_ - ridge.coef_ @ factors[s][stock].T))\n",
    "        sigma_hat = np.array(beta_hat_stocks) @ np.array(beta_hat_stocks).T + sigma_ridge @ np.identity(N)\n",
    "        weights = np.linalg.inv(gamma * sigma_hat + c * np.identity(N)) @ (alpha_hat_stocks + c * w0)\n",
    "        sigma_true = beta @ beta.T + np.identity(N)*idiovol_sigma**2 \n",
    "        value = weights.T @ alpha - 0.5*gamma*weights.T @ sigma_true @ weights - 0.5*c*np.sqrt(sum((weights - w0)**2))\n",
    "        value_l.append(value)\n",
    "    utility_avg.append(np.mean(value_l))"
   ]
  },
  {
   "cell_type": "markdown",
   "metadata": {},
   "source": [
    "## Statistical $\\lambda$"
   ]
  },
  {
   "cell_type": "code",
   "execution_count": 47,
   "metadata": {},
   "outputs": [],
   "source": [
    "def lambda_value(l):\n",
    "    value_statsl = []\n",
    "    for s in range(np.shape(y)[0]):\n",
    "        beta_hat = []\n",
    "        alpha_hat = []\n",
    "        sigma_ridge = []\n",
    "        for stock in range(N):\n",
    "            ridge = Ridge(alpha = l, fit_intercept = True).fit(factors[s][stock], y[s][stock])\n",
    "            beta_hat.append(ridge.coef_)\n",
    "            alpha_hat.append(ridge.intercept_)\n",
    "            sigma_ridge.append(np.var(y[s][stock] - ridge.intercept_ - ridge.coef_ @ factors[s][stock].T))\n",
    "        sigma_hat = np.array(beta_hat) @ np.array(beta_hat).T + sigma_ridge @ np.identity(N)\n",
    "        weights = np.linalg.inv(gamma * sigma_hat + c * np.identity(N)) @ (alpha_hat_stocks + c*w0)\n",
    "        sigma_true = beta @ beta.T + np.identity(N)*idiovol_sigma**2\n",
    "        value = weights.T @ alpha - 0.5*gamma*weights.T @ sigma_true @ weights - 0.5 * c*np.sqrt(sum((weights-w0)**2))\n",
    "        value_statsl.append(value)\n",
    "    return np.mean(value_statsl)"
   ]
  },
  {
   "cell_type": "code",
   "execution_count": 48,
   "metadata": {},
   "outputs": [],
   "source": [
    "stats_lambda = (N*(p+1)*idiovol_sigma**2)/((sum(alpha**2)+sum(sum(beta**2)))*T)\n",
    "stats_utility = lambda_value(stats_lambda)"
   ]
  },
  {
   "cell_type": "code",
   "execution_count": 49,
   "metadata": {},
   "outputs": [
    {
     "data": {
      "text/plain": [
       "Text(0.5, 1.0, 'when gamma = 1, c = 1(normal a, b)')"
      ]
     },
     "execution_count": 49,
     "metadata": {},
     "output_type": "execute_result"
    },
    {
     "data": {
      "image/png": "[encoded data removed]",
      "text/plain": [
       "<Figure size 432x288 with 1 Axes>"
      ]
     },
     "metadata": {
      "needs_background": "light"
     },
     "output_type": "display_data"
    }
   ],
   "source": [
    "plt.scatter(y = utility_avg, x = lambdas)\n",
    "plt.scatter(y = stats_utility, x = stats_lambda, marker='*',s=120, c='g')\n",
    "plt.ylabel('Utility')\n",
    "plt.xlabel('Lambdas')\n",
    "plt.title('when gamma = 1, c = 1(normal a, b)')"
   ]
  },
  {
   "cell_type": "markdown",
   "metadata": {},
   "source": [
    "## Economic $\\lambda$"
   ]
  },
  {
   "cell_type": "code",
   "execution_count": 74,
   "metadata": {},
   "outputs": [
    {
     "data": {
      "text/plain": [
       "0.46621080213830335"
      ]
     },
     "execution_count": 74,
     "metadata": {},
     "output_type": "execute_result"
    }
   ],
   "source": [
    "mu_f = mus[0]\n",
    "sigma_bar = gamma * sigma_true + c*np.identity(N)\n",
    "sigma_bar_v = np.linalg.inv(sigma_bar)\n",
    "B1 = sigma_bar_v.trace()\n",
    "M = beta @ mu_f + c*w0\n",
    "\n",
    "B2 = B1*M.T @ sigma_bar_v @ beta @ beta.T @ sigma_bar_v @ M\n",
    "beta_b_beta = beta.T @ sigma_bar_v @ beta\n",
    "B3 = gamma**2 * beta_b_beta.trace()*M.T @ sigma_bar_v @ sigma_bar_v @ M\n",
    "B4 = 2*gamma**2 * M.T @ sigma_bar_v @ sigma_bar_v @ beta @ beta.T @ sigma_bar_v @ M\n",
    "\n",
    "M_f = beta @ mu_f + 2*gamma*beta@beta.T @sigma_bar_v@M\n",
    "\n",
    "denominator = M_f.T @ sigma_bar_v @ M_f\n",
    "\n",
    "eml = ((idiovol_sigma**2)/T)*((B1+B2+B3+B4)/denominator)\n",
    "eml"
   ]
  },
  {
   "cell_type": "code",
   "execution_count": 76,
   "metadata": {},
   "outputs": [],
   "source": [
    "eml_utility = lambda_value(eml)"
   ]
  },
  {
   "cell_type": "code",
   "execution_count": 84,
   "metadata": {},
   "outputs": [
    {
     "data": {
      "text/plain": [
       "Text(0.5, 1.0, 'when gamma = 1, c = 1(normal a, b)')"
      ]
     },
     "execution_count": 84,
     "metadata": {},
     "output_type": "execute_result"
    },
    {
     "data": {
      "image/png": "[encoded data removed]",
      "text/plain": [
       "<Figure size 432x288 with 1 Axes>"
      ]
     },
     "metadata": {
      "needs_background": "light"
     },
     "output_type": "display_data"
    }
   ],
   "source": [
    "plt.scatter(y = utility_avg, x = lambdas)\n",
    "plt.scatter(y = stats_utility, x = stats_lambda, marker='*', c='g', alpha = 0.7)\n",
    "plt.scatter(y = eml_utility, x = eml, marker = 'o', alpha = 0.7)\n",
    "plt.ylabel('Utility')\n",
    "plt.xlabel('Lambdas')\n",
    "plt.title('when gamma = 1, c = 1(normal a, b)')"
   ]
  },
  {
   "cell_type": "code",
   "execution_count": 134,
   "metadata": {},
   "outputs": [],
   "source": [
    "lambdas = np.geomspace(1,1000,30)\n",
    "\n",
    "\n",
    "utility_avg = []\n",
    "\n",
    "for l in lambdas:\n",
    "    value_l = []\n",
    "    for s in range(np.shape(y)[0]):\n",
    "        beta_hat_stocks = []\n",
    "        alpha_hat_stocks = []\n",
    "        sigma_ridge = []\n",
    "        for stock in range(N):\n",
    "        #             ridge_betas = ridge_closed(factors[s][stock], y[s][stock], l)[0]\n",
    "        #             ridge_intercept = ridge_closed(factors[s][stock], y[s][stock], l)[1]\n",
    "            ridge = Ridge(alpha = l, fit_intercept = True).fit(factors[s][stock], y[s][stock])\n",
    "\n",
    "            beta_hat_stocks.append(ridge.coef_)\n",
    "            alpha_hat_stocks.append(ridge.intercept_)\n",
    "            sigma_ridge.append(np.var(y[s][stock] - ridge.intercept_ - ridge.coef_ @ factors[s][stock].T))\n",
    "        sigma_hat = np.array(beta_hat_stocks) @ np.array(beta_hat_stocks).T + sigma_ridge @ np.identity(N)\n",
    "        weights = np.linalg.inv(gamma * sigma_hat + c * np.identity(N)) @ (alpha_hat_stocks + c * w0)\n",
    "        sigma_true = beta @ beta.T + np.identity(N)*idiovol_sigma**2 \n",
    "        value = weights.T @ alpha - 0.5*gamma*weights.T @ sigma_true @ weights - 0.5*c*np.sqrt(sum((weights - w0)**2))\n",
    "        value_l.append(value)\n",
    "    utility_avg.append(np.mean(value_l))"
   ]
  },
  {
   "cell_type": "code",
   "execution_count": 138,
   "metadata": {},
   "outputs": [
    {
     "data": {
      "text/plain": [
       "<matplotlib.legend.Legend at 0x130127b10>"
      ]
     },
     "execution_count": 138,
     "metadata": {},
     "output_type": "execute_result"
    },
    {
     "data": {
      "image/png": "[encoded data removed]",
      "text/plain": [
       "<Figure size 432x288 with 1 Axes>"
      ]
     },
     "metadata": {
      "needs_background": "light"
     },
     "output_type": "display_data"
    }
   ],
   "source": [
    "plt.scatter(y = utility_avg, x = lambdas)\n",
    "plt.scatter(y = stats_utility, x = stats_lambda, marker='*', c='g', alpha = 0.7,label = 'Statistical lambda')\n",
    "plt.scatter(y = eml_utility, x = eml, marker = 'o', alpha = 0.7,label = 'Economic lambda')\n",
    "plt.scatter(y = max(utility_avg), x = lambdas[np.argmax(utility_avg)], c = 'r', label = 'Numerical lambda')\n",
    "plt.ylabel('Utility')\n",
    "plt.xlabel('Lambdas')\n",
    "plt.title('when gamma = 1, c = 1(a = 1.5, b = 1.5)')\n",
    "plt.legend()"
   ]
  },
  {
   "cell_type": "code",
   "execution_count": 137,
   "metadata": {},
   "outputs": [
    {
     "data": {
      "text/plain": [
       "1.5"
      ]
     },
     "execution_count": 137,
     "metadata": {},
     "output_type": "execute_result"
    }
   ],
   "source": [
    "b"
   ]
  },
  {
   "cell_type": "code",
   "execution_count": 110,
   "metadata": {},
   "outputs": [
    {
     "data": {
      "text/plain": [
       "array([   1.        ,    1.268961  ,    1.61026203,    2.04335972,\n",
       "          2.5929438 ,    3.29034456,    4.17531894,    5.29831691,\n",
       "          6.72335754,    8.53167852,   10.82636734,   13.73823796,\n",
       "         17.43328822,   22.12216291,   28.07216204,   35.6224789 ,\n",
       "         45.20353656,   57.3615251 ,   72.78953844,   92.36708572,\n",
       "        117.21022975,  148.73521073,  188.73918221,  239.502662  ,\n",
       "        303.91953823,  385.66204212,  489.39009185,  621.01694189,\n",
       "        788.04628157, 1000.        ])"
      ]
     },
     "execution_count": 110,
     "metadata": {},
     "output_type": "execute_result"
    }
   ],
   "source": [
    "lambdas"
   ]
  },
  {
   "cell_type": "code",
   "execution_count": null,
   "metadata": {},
   "outputs": [],
   "source": []
  }
 ],
 "metadata": {
  "kernelspec": {
   "display_name": "Python 3",
   "language": "python",
   "name": "python3"
  },
  "language_info": {
   "codemirror_mode": {
    "name": "ipython",
    "version": 3
   },
   "file_extension": ".py",
   "mimetype": "text/x-python",
   "name": "python",
   "nbconvert_exporter": "python",
   "pygments_lexer": "ipython3",
   "version": "3.7.4"
  }
 },
 "nbformat": 4,
 "nbformat_minor": 2
}
