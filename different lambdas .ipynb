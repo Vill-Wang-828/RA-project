{
 "cells": [
  {
   "cell_type": "code",
   "execution_count": 29,
   "metadata": {},
   "outputs": [],
   "source": [
    "import pandas as pd\n",
    "import numpy as np\n",
    "from sklearn.linear_model import Ridge\n",
    "import matplotlib.pyplot as plt\n",
    "import seaborn as sns\n",
    "sns.set()"
   ]
  },
  {
   "cell_type": "markdown",
   "metadata": {},
   "source": [
    "## For generating samples:\n",
    "- In each simulation, stocks are sharing the same T-p Factor matrix."
   ]
  },
  {
   "cell_type": "code",
   "execution_count": 37,
   "metadata": {},
   "outputs": [],
   "source": [
    "N = 1000\n",
    "p = 300\n",
    "T = 120\n",
    "idiovol_sigma = np.sqrt(0.3*0.3/12)\n",
    "e_mu = np.sqrt(0.2*0.2/12)\n",
    "e_sigma = e_mu\n",
    "mu = 0.1/12/e_mu\n",
    "w0 = np.zeros(N) # for now\n",
    "returns = []\n",
    "\n",
    "gamma = 1\n",
    "c = 1\n",
    "a = 1.5\n",
    "b = 1.5\n",
    "# values_new = []\n",
    "\n",
    "values_new = []\n",
    "\n",
    "# X\n",
    "factors = []\n",
    "# y\n",
    "y = []\n",
    "\n",
    "utility_avg = []\n",
    "for s in range(100): # can change the simulation number\n",
    "    beta = np.zeros((N,p)) \n",
    "    beta[:,0] = np.random.normal(e_mu, e_sigma, N)\n",
    "    mus = np.zeros((N,p))\n",
    "    mus[:,0] = mu\n",
    "    returns = []\n",
    "    f = np.random.multivariate_normal(np.zeros(p), np.identity(p), T) #share the same T*p matrix\n",
    "    \n",
    "    for j in range(1,p):\n",
    "        beta[:,j-1] = beta[:,0]*j**(-a)  # draw an N*p matrix of beta\n",
    "        mus[:,j-1] = mu*j**(-b)  # draw an N*p matrix of mus\n",
    "        alpha = (beta * mus).sum(axis = 1) # get the factor risk premia\n",
    "        \n",
    "    for stock in range(N):\n",
    "         # for each stock generate the factor matrix\n",
    "        epsilon = np.random.normal(0,idiovol_sigma,T) #generate the residuals\n",
    "        r = alpha[stock] + np.array(beta[stock]).T @ f.T + epsilon # calculate the return series for each stock\n",
    "        returns.append(r.T)\n",
    "    factors.append(f)\n",
    "    \n",
    "\n",
    "    y.append(returns) "
   ]
  },
  {
   "cell_type": "code",
   "execution_count": 36,
   "metadata": {},
   "outputs": [
    {
     "data": {
      "text/plain": [
       "(5, 1000, 120)"
      ]
     },
     "execution_count": 36,
     "metadata": {},
     "output_type": "execute_result"
    }
   ],
   "source": [
    "np.shape(y)"
   ]
  },
  {
   "cell_type": "code",
   "execution_count": 38,
   "metadata": {},
   "outputs": [],
   "source": [
    "lambdas = np.geomspace(0.1,100,30)\n",
    "\n",
    "\n",
    "utility_avg = []\n",
    "\n",
    "for l in lambdas:\n",
    "    value_l = []\n",
    "    for s in range(np.shape(y)[0]):\n",
    "        beta_hat_stocks = []\n",
    "        alpha_hat_stocks = []\n",
    "        sigma_ridge = []\n",
    "        for stock in range(N):\n",
    "        #             ridge_betas = ridge_closed(factors[s][stock], y[s][stock], l)[0]\n",
    "        #             ridge_intercept = ridge_closed(factors[s][stock], y[s][stock], l)[1]\n",
    "            ridge = Ridge(alpha = l, fit_intercept = True).fit(factors[s], y[s][stock])\n",
    "\n",
    "            beta_hat_stocks.append(ridge.coef_)\n",
    "            alpha_hat_stocks.append(ridge.intercept_)\n",
    "            sigma_ridge.append(np.var(y[s][stock] - ridge.intercept_ - ridge.coef_ @ factors[s].T))\n",
    "        sigma_hat = np.array(beta_hat_stocks) @ np.array(beta_hat_stocks).T + sigma_ridge @ np.identity(N)\n",
    "        weights = np.linalg.inv(gamma * sigma_hat + c * np.identity(N)) @ (alpha_hat_stocks + c * w0)\n",
    "        sigma_true = beta @ beta.T + np.identity(N)*idiovol_sigma**2 \n",
    "        value = weights.T @ alpha - 0.5*gamma*weights.T @ sigma_true @ weights - 0.5*c*np.sqrt(sum((weights - w0)**2))\n",
    "        value_l.append(value)\n",
    "    utility_avg.append(np.mean(value_l))"
   ]
  },
  {
   "cell_type": "code",
   "execution_count": 39,
   "metadata": {},
   "outputs": [
    {
     "data": {
      "text/plain": [
       "<matplotlib.legend.Legend at 0x1281076d0>"
      ]
     },
     "execution_count": 39,
     "metadata": {},
     "output_type": "execute_result"
    },
    {
     "data": {
      "image/png": "[encoded data removed]",
      "text/plain": [
       "<Figure size 432x288 with 1 Axes>"
      ]
     },
     "metadata": {},
     "output_type": "display_data"
    }
   ],
   "source": [
    "plt.scatter(y = utility_avg, x = lambdas)\n",
    "\n",
    "plt.ylabel('Utility')\n",
    "plt.xlabel('Lambdas')\n",
    "plt.title('when gamma = 1, c = 1(normal a, b)')\n",
    "\n",
    "\n",
    "plt.scatter(y = max(utility_avg), x = lambdas[np.argmax(utility_avg)],s=100, label = 'Optimal Numerical Lambda')\n",
    "plt.legend()"
   ]
  },
  {
   "cell_type": "code",
   "execution_count": 40,
   "metadata": {},
   "outputs": [
    {
     "data": {
      "text/plain": [
       "48.93900918477494"
      ]
     },
     "execution_count": 40,
     "metadata": {},
     "output_type": "execute_result"
    }
   ],
   "source": [
    "lambdas[np.argmax(utility_avg)]"
   ]
  },
  {
   "cell_type": "markdown",
   "metadata": {},
   "source": [
    "## Statistical $\\lambda$"
   ]
  },
  {
   "cell_type": "code",
   "execution_count": 41,
   "metadata": {},
   "outputs": [
    {
     "data": {
      "text/plain": [
       "2.3250898936549387"
      ]
     },
     "execution_count": 41,
     "metadata": {},
     "output_type": "execute_result"
    }
   ],
   "source": [
    "stats_lambda = (N*(p+1)*idiovol_sigma**2)/((sum(alpha**2)+sum(sum(beta**2)))*T)\n",
    "\n",
    "stats_lambda"
   ]
  },
  {
   "cell_type": "code",
   "execution_count": 42,
   "metadata": {},
   "outputs": [],
   "source": [
    "# interpolate the curve of utility vs lambdas\n",
    "from scipy.interpolate import interp1d\n",
    "\n",
    "func = interp1d(lambdas, utility_avg, kind = 'cubic', fill_value='extrapolate')"
   ]
  },
  {
   "cell_type": "markdown",
   "metadata": {},
   "source": [
    "## Economic $\\lambda$ : check its calculation again"
   ]
  },
  {
   "cell_type": "code",
   "execution_count": 43,
   "metadata": {},
   "outputs": [
    {
     "data": {
      "text/plain": [
       "0.369927802065763"
      ]
     },
     "execution_count": 43,
     "metadata": {},
     "output_type": "execute_result"
    }
   ],
   "source": [
    "mu_f = mus[0]\n",
    "sigma_bar = gamma * sigma_true + c*np.identity(N)\n",
    "sigma_bar_v = np.linalg.inv(sigma_bar)\n",
    "B1 = sigma_bar_v.trace()\n",
    "M = beta @ mu_f + c*w0\n",
    "\n",
    "B2 = B1*M.T @ sigma_bar_v @ beta @ beta.T @ sigma_bar_v @ M\n",
    "beta_b_beta = beta.T @ sigma_bar_v @ beta\n",
    "B3 = gamma**2 * beta_b_beta.trace()*M.T @ sigma_bar_v @ sigma_bar_v @ M\n",
    "B4 = 2*gamma**2 * M.T @ sigma_bar_v @ sigma_bar_v @ beta @ beta.T @ sigma_bar_v @ M\n",
    "\n",
    "M_f = beta @ mu_f + 2*gamma*beta@beta.T @sigma_bar_v@M\n",
    "\n",
    "denominator = M_f.T @ sigma_bar_v @ M_f\n",
    "\n",
    "eml = ((idiovol_sigma**2)/T)*((B1+B2+B3+B4)/denominator)\n",
    "eml"
   ]
  },
  {
   "cell_type": "code",
   "execution_count": 45,
   "metadata": {},
   "outputs": [
    {
     "data": {
      "text/plain": [
       "<matplotlib.legend.Legend at 0x1231e8ed0>"
      ]
     },
     "execution_count": 45,
     "metadata": {},
     "output_type": "execute_result"
    },
    {
     "data": {
      "image/png": "[encoded data removed]",
      "text/plain": [
       "<Figure size 432x288 with 1 Axes>"
      ]
     },
     "metadata": {},
     "output_type": "display_data"
    }
   ],
   "source": [
    "plt.scatter(y = utility_avg, x = lambdas)\n",
    "plt.scatter(y = func(stats_lambda), x = stats_lambda, marker='o',label = 'Statistical lambda', c = 'g',s=80)\n",
    "plt.scatter(y = max(utility_avg), x = lambdas[np.argmax(utility_avg)],label = 'Optimal Numerical Lambda',s=80)\n",
    "plt.scatter(y = func(eml), x = eml, label = 'Economic lambda', c='r',s=80)\n",
    "plt.ylabel('Utility')\n",
    "plt.xlabel('Lambdas')\n",
    "plt.title('when gamma = 1, c = 1(normal a, b)')\n",
    "plt.legend()"
   ]
  },
  {
   "cell_type": "code",
   "execution_count": null,
   "metadata": {},
   "outputs": [],
   "source": []
  }
 ],
 "metadata": {
  "kernelspec": {
   "display_name": "Python 3",
   "language": "python",
   "name": "python3"
  },
  "language_info": {
   "codemirror_mode": {
    "name": "ipython",
    "version": 3
   },
   "file_extension": ".py",
   "mimetype": "text/x-python",
   "name": "python",
   "nbconvert_exporter": "python",
   "pygments_lexer": "ipython3",
   "version": "3.7.4"
  }
 },
 "nbformat": 4,
 "nbformat_minor": 2
}
