{
 "cells": [
  {
   "cell_type": "code",
   "execution_count": 67,
   "metadata": {},
   "outputs": [],
   "source": [
    "import pandas as pd\n",
    "import numpy as np\n",
    "from sklearn.linear_model import Ridge\n",
    "import matplotlib.pyplot as plt\n",
    "import seaborn as sns\n",
    "sns.set()"
   ]
  },
  {
   "cell_type": "code",
   "execution_count": 80,
   "metadata": {},
   "outputs": [],
   "source": [
    "N = 1000\n",
    "p = 300\n",
    "T = 120\n",
    "idiovol_sigma = np.sqrt(0.3*0.3/12)\n",
    "e_mu = np.sqrt(0.2*0.2/12)\n",
    "e_sigma = e_mu\n",
    "mu = 0.1/12/e_mu\n",
    "sigma_beta = 1\n",
    "a = 1.5\n",
    "b = 1.5\n",
    "w0 = np.zeros(N) # for now\n",
    "returns = []\n",
    "\n",
    "# values_new = []\n",
    "# gamma = [0.5,1,1.5,2,2.5,5,7.5,10]\n",
    "gamma = 0.5\n",
    "# gamma = 1\n",
    "c = 0.01\n",
    "values_new = []\n",
    "\n",
    "value_gamma = []\n",
    "# lambdas_commons = []\n",
    "# for gammas in gamma:\n",
    "    for s in range(100): # can change the simulation number\n",
    "        t = np.random.normal(e_mu,e_sigma,N) # generate the eij for each factor\n",
    "        betas = np.zeros((N,p)) # the decaying path of each factor beta\n",
    "        beta_bar = np.zeros((1,p))\n",
    "        betas[:,0] = t\n",
    "        beta_bar[:,0] = e_mu\n",
    "        mus = np.zeros((1,p))\n",
    "        mus[:,0] = mu\n",
    "        for j in range(1,p):\n",
    "            betas[:,j-1] = t*j**(-a)\n",
    "            beta_bar[:,j-1] = np.mean(betas[:,j-1])# the average beta for calculating lambda\n",
    "            mus[:,j-1] = mu*j**(-b)\n",
    "        alpha = (betas * mus).sum(axis = 1) # the factor risk premia\n",
    "        alpha_bar = (beta_bar * mus).sum(axis = 1) # the average alpha for calculating lambda\n",
    "        beta_hat_stocks = [] # to store the betas for each stock after their ridge regression\n",
    "        alpha_hat_stocks = [] # to store the alphas for each stock after their ridge regression\n",
    "        sigma_ridge = []\n",
    "        returns = []\n",
    "        lambda_common = idiovol_sigma**2 * (p+1)/((alpha_bar**2 + (beta_bar**2).sum())*T)\n",
    "        lambdas_commons.append(lambda_common)\n",
    "        for stock in range(N):\n",
    "            f = np.random.multivariate_normal(np.zeros(p), np.identity(p), T) # for each stock generate the factor matrix\n",
    "            epsilon = np.random.normal(0,idiovol_sigma,T) #generate the residuals\n",
    "            r = alpha[stock] + np.array(betas[stock]).T @ f.T + epsilon # calculate the return series for each stock\n",
    "            returns.append(r)\n",
    "#             lamb = idiovol_sigma**2 * (p+1)/((alpha[stock]**2 + sum(betas[stock]**2))*T)\n",
    "            ridge = Ridge(alpha = lambda_common,fit_intercept = True)\n",
    "            ridge.fit(f, r)\n",
    "            beta_hat_stocks.append(ridge.coef_)\n",
    "            alpha_hat_stocks.append(ridge.intercept_)\n",
    "            sigma_ridge.append(np.var(r - ridge.intercept_ - ridge.coef_ @ f.T))\n",
    "\n",
    "        sigma_hat = np.array(beta_hat_stocks) @ np.array(beta_hat_stocks).T + sigma_ridge @ np.identity(N)\n",
    "        weights = np.linalg.inv(gammas * sigma_hat + c * np.identity(N)) @ (alpha_hat_stocks + c * w0)\n",
    "        sigma_true = betas @ betas.T + np.identity(N)*idiovol_sigma**2 \n",
    "        value = weights.T @ alpha - 0.5*gammas*weights.T @ sigma_true @ weights - 0.5*c*np.sqrt(sum((weights - w0)**2))\n",
    "        values_new.append(value)\n",
    "\n",
    "#     value_gamma.append(np.mean(values_new))"
   ]
  },
  {
   "cell_type": "code",
   "execution_count": 81,
   "metadata": {},
   "outputs": [
    {
     "data": {
      "text/plain": [
       "[-5.814597496779083,\n",
       " -7.009271964130653,\n",
       " -8.073548673752333,\n",
       " -9.296071821637147,\n",
       " -10.412895284390755,\n",
       " -13.226387113976658,\n",
       " -17.17478837608071,\n",
       " -21.545478310971074]"
      ]
     },
     "execution_count": 81,
     "metadata": {},
     "output_type": "execute_result"
    }
   ],
   "source": [
    "value_gamma"
   ]
  },
  {
   "cell_type": "code",
   "execution_count": 82,
   "metadata": {},
   "outputs": [
    {
     "data": {
      "text/plain": [
       "Text(0.5, 0, 'Gamma')"
      ]
     },
     "execution_count": 82,
     "metadata": {},
     "output_type": "execute_result"
    },
    {
     "data": {
      "image/png": "[encoded data removed]",
      "text/plain": [
       "<Figure size 432x288 with 1 Axes>"
      ]
     },
     "metadata": {},
     "output_type": "display_data"
    }
   ],
   "source": [
    "plt.scatter(y = value_gamma, x = gamma, s = 50)\n",
    "plt.ylabel('Utility(c=0.01)')\n",
    "plt.xlabel('Gamma')"
   ]
  },
  {
   "cell_type": "code",
   "execution_count": 35,
   "metadata": {},
   "outputs": [
    {
     "data": {
      "text/plain": [
       "[array([4.61965125]),\n",
       " array([4.93760497]),\n",
       " array([4.68414261]),\n",
       " array([4.69356491]),\n",
       " array([4.74203476])]"
      ]
     },
     "execution_count": 35,
     "metadata": {},
     "output_type": "execute_result"
    }
   ],
   "source": [
    "lambdas_commons"
   ]
  },
  {
   "cell_type": "code",
   "execution_count": null,
   "metadata": {},
   "outputs": [],
   "source": []
  },
  {
   "cell_type": "code",
   "execution_count": null,
   "metadata": {},
   "outputs": [],
   "source": []
  },
  {
   "cell_type": "code",
   "execution_count": null,
   "metadata": {},
   "outputs": [],
   "source": []
  },
  {
   "cell_type": "code",
   "execution_count": null,
   "metadata": {},
   "outputs": [],
   "source": []
  },
  {
   "cell_type": "code",
   "execution_count": null,
   "metadata": {},
   "outputs": [],
   "source": []
  }
 ],
 "metadata": {
  "kernelspec": {
   "display_name": "Python 3",
   "language": "python",
   "name": "python3"
  },
  "language_info": {
   "codemirror_mode": {
    "name": "ipython",
    "version": 3
   },
   "file_extension": ".py",
   "mimetype": "text/x-python",
   "name": "python",
   "nbconvert_exporter": "python",
   "pygments_lexer": "ipython3",
   "version": "3.7.4"
  }
 },
 "nbformat": 4,
 "nbformat_minor": 2
}
